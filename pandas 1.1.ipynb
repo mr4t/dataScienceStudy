{
 "cells": [
  {
   "cell_type": "code",
   "execution_count": 1,
   "metadata": {},
   "outputs": [],
   "source": [
    "import pandas as pd"
   ]
  },
  {
   "cell_type": "code",
   "execution_count": 2,
   "metadata": {},
   "outputs": [],
   "source": [
    "import numpy as np"
   ]
  },
  {
   "cell_type": "code",
   "execution_count": 3,
   "metadata": {},
   "outputs": [],
   "source": [
    "dic={\"murat\":12,\"burak\":23,\"samet\":45}\n",
    "age=[12,23,45]\n",
    "name=[\"murat\",\"burak\",\"samet\"]\n",
    "npAge=np.array([12,23,45])"
   ]
  },
  {
   "cell_type": "markdown",
   "metadata": {},
   "source": [
    "#### Pandas serileri numpy dizileri gibidir ancak numpydaki gibi çoğunlukla indexleme işlemlerinden hariç seriler üzerinde çok daha fazla hakimiyet imkanı ve veriyi kolay inceleme şansı sağlar. Pandas serileri datayı tek boyutlu olarak ister çok boyutlu girdi almaz"
   ]
  },
  {
   "cell_type": "code",
   "execution_count": 4,
   "metadata": {},
   "outputs": [
    {
     "data": {
      "text/plain": [
       "murat    12\n",
       "burak    23\n",
       "samet    45\n",
       "dtype: int64"
      ]
     },
     "execution_count": 4,
     "metadata": {},
     "output_type": "execute_result"
    }
   ],
   "source": [
    "pd.Series(dic) #sözlükten pandas serisine çevirme"
   ]
  },
  {
   "cell_type": "code",
   "execution_count": 5,
   "metadata": {},
   "outputs": [
    {
     "data": {
      "text/plain": [
       "murat    12\n",
       "burak    23\n",
       "samet    45\n",
       "dtype: int64"
      ]
     },
     "execution_count": 5,
     "metadata": {},
     "output_type": "execute_result"
    }
   ],
   "source": [
    "pd.Series(data=age,index=name) #listeden pandas serisine çevirme"
   ]
  },
  {
   "cell_type": "code",
   "execution_count": 6,
   "metadata": {},
   "outputs": [
    {
     "data": {
      "text/plain": [
       "murat    12\n",
       "burak    23\n",
       "samet    45\n",
       "dtype: int32"
      ]
     },
     "execution_count": 6,
     "metadata": {},
     "output_type": "execute_result"
    }
   ],
   "source": [
    "pd.Series(npAge,name) #numpy dizisinden pandas serisine çevirme"
   ]
  },
  {
   "cell_type": "code",
   "execution_count": 7,
   "metadata": {},
   "outputs": [],
   "source": [
    "x=pd.Series(np.arange(1,6),[\"a\",\"b\",\"c\",\"d\",\"e\"])"
   ]
  },
  {
   "cell_type": "code",
   "execution_count": 8,
   "metadata": {},
   "outputs": [],
   "source": [
    "y=pd.Series(np.arange(5,9),[\"a\",\"b\",\"c\",\"d\"])"
   ]
  },
  {
   "cell_type": "code",
   "execution_count": 9,
   "metadata": {},
   "outputs": [
    {
     "data": {
      "text/plain": [
       "a     6.0\n",
       "b     8.0\n",
       "c    10.0\n",
       "d    12.0\n",
       "e     NaN\n",
       "dtype: float64"
      ]
     },
     "execution_count": 9,
     "metadata": {},
     "output_type": "execute_result"
    }
   ],
   "source": [
    "x+y #aynı indexler için aritmetik işlemler yapılabilir ama aynı indexler bulunamazsa NaN değeri döner"
   ]
  },
  {
   "cell_type": "code",
   "execution_count": 10,
   "metadata": {},
   "outputs": [],
   "source": [
    "a=pd.Series(np.arange(1,6),[\"a\",\"b\",\"c\",\"d\",\"e\"])"
   ]
  },
  {
   "cell_type": "code",
   "execution_count": 11,
   "metadata": {},
   "outputs": [],
   "source": [
    "b=pd.Series(np.arange(5,10),[\"a\",\"b\",\"c\",\"d\",\"e\"])"
   ]
  },
  {
   "cell_type": "code",
   "execution_count": 12,
   "metadata": {},
   "outputs": [
    {
     "data": {
      "text/plain": [
       "a    True\n",
       "b    True\n",
       "c    True\n",
       "d    True\n",
       "e    True\n",
       "dtype: bool"
      ]
     },
     "execution_count": 12,
     "metadata": {},
     "output_type": "execute_result"
    }
   ],
   "source": [
    "a!=b # \"< > == !=\" karşılaştırma operatörleri kullanılabilir. !!!Aynı indexler bulunamazsa hata verir"
   ]
  },
  {
   "cell_type": "markdown",
   "metadata": {},
   "source": [
    "## DataFrame"
   ]
  },
  {
   "cell_type": "markdown",
   "metadata": {},
   "source": [
    "### Dataframe aslında birden fazla pandas serisinin yan yana gelmesi ile oluşur. Tıpkı excelde olduğu gibi açık ve kolay incelenebilir bir tablo sunar."
   ]
  },
  {
   "cell_type": "code",
   "execution_count": 13,
   "metadata": {},
   "outputs": [],
   "source": [
    "data=np.random.rand(4,3)"
   ]
  },
  {
   "cell_type": "code",
   "execution_count": 14,
   "metadata": {},
   "outputs": [
    {
     "data": {
      "text/plain": [
       "array([[0.99313589, 0.7168079 , 0.85980244],\n",
       "       [0.90092777, 0.67391182, 0.67092658],\n",
       "       [0.3052127 , 0.67828869, 0.03635714],\n",
       "       [0.26043025, 0.47679351, 0.30640396]])"
      ]
     },
     "execution_count": 14,
     "metadata": {},
     "output_type": "execute_result"
    }
   ],
   "source": [
    "data"
   ]
  },
  {
   "cell_type": "code",
   "execution_count": 15,
   "metadata": {},
   "outputs": [],
   "source": [
    "dataFrame=pd.DataFrame(data)"
   ]
  },
  {
   "cell_type": "code",
   "execution_count": 16,
   "metadata": {},
   "outputs": [
    {
     "data": {
      "text/html": [
       "<div>\n",
       "<style scoped>\n",
       "    .dataframe tbody tr th:only-of-type {\n",
       "        vertical-align: middle;\n",
       "    }\n",
       "\n",
       "    .dataframe tbody tr th {\n",
       "        vertical-align: top;\n",
       "    }\n",
       "\n",
       "    .dataframe thead th {\n",
       "        text-align: right;\n",
       "    }\n",
       "</style>\n",
       "<table border=\"1\" class=\"dataframe\">\n",
       "  <thead>\n",
       "    <tr style=\"text-align: right;\">\n",
       "      <th></th>\n",
       "      <th>0</th>\n",
       "      <th>1</th>\n",
       "      <th>2</th>\n",
       "    </tr>\n",
       "  </thead>\n",
       "  <tbody>\n",
       "    <tr>\n",
       "      <th>0</th>\n",
       "      <td>0.993136</td>\n",
       "      <td>0.716808</td>\n",
       "      <td>0.859802</td>\n",
       "    </tr>\n",
       "    <tr>\n",
       "      <th>1</th>\n",
       "      <td>0.900928</td>\n",
       "      <td>0.673912</td>\n",
       "      <td>0.670927</td>\n",
       "    </tr>\n",
       "    <tr>\n",
       "      <th>2</th>\n",
       "      <td>0.305213</td>\n",
       "      <td>0.678289</td>\n",
       "      <td>0.036357</td>\n",
       "    </tr>\n",
       "    <tr>\n",
       "      <th>3</th>\n",
       "      <td>0.260430</td>\n",
       "      <td>0.476794</td>\n",
       "      <td>0.306404</td>\n",
       "    </tr>\n",
       "  </tbody>\n",
       "</table>\n",
       "</div>"
      ],
      "text/plain": [
       "          0         1         2\n",
       "0  0.993136  0.716808  0.859802\n",
       "1  0.900928  0.673912  0.670927\n",
       "2  0.305213  0.678289  0.036357\n",
       "3  0.260430  0.476794  0.306404"
      ]
     },
     "execution_count": 16,
     "metadata": {},
     "output_type": "execute_result"
    }
   ],
   "source": [
    "dataFrame"
   ]
  },
  {
   "cell_type": "code",
   "execution_count": 17,
   "metadata": {},
   "outputs": [],
   "source": [
    "newDataFrame=pd.DataFrame(data,index=[\"murat\",\"zeynep\",\"burak\",\"banu\"],columns=[\"puan1\",\"puan2\",\"puan3\"])"
   ]
  },
  {
   "cell_type": "code",
   "execution_count": 18,
   "metadata": {},
   "outputs": [
    {
     "data": {
      "text/html": [
       "<div>\n",
       "<style scoped>\n",
       "    .dataframe tbody tr th:only-of-type {\n",
       "        vertical-align: middle;\n",
       "    }\n",
       "\n",
       "    .dataframe tbody tr th {\n",
       "        vertical-align: top;\n",
       "    }\n",
       "\n",
       "    .dataframe thead th {\n",
       "        text-align: right;\n",
       "    }\n",
       "</style>\n",
       "<table border=\"1\" class=\"dataframe\">\n",
       "  <thead>\n",
       "    <tr style=\"text-align: right;\">\n",
       "      <th></th>\n",
       "      <th>puan1</th>\n",
       "      <th>puan2</th>\n",
       "      <th>puan3</th>\n",
       "    </tr>\n",
       "  </thead>\n",
       "  <tbody>\n",
       "    <tr>\n",
       "      <th>murat</th>\n",
       "      <td>0.993136</td>\n",
       "      <td>0.716808</td>\n",
       "      <td>0.859802</td>\n",
       "    </tr>\n",
       "    <tr>\n",
       "      <th>zeynep</th>\n",
       "      <td>0.900928</td>\n",
       "      <td>0.673912</td>\n",
       "      <td>0.670927</td>\n",
       "    </tr>\n",
       "    <tr>\n",
       "      <th>burak</th>\n",
       "      <td>0.305213</td>\n",
       "      <td>0.678289</td>\n",
       "      <td>0.036357</td>\n",
       "    </tr>\n",
       "    <tr>\n",
       "      <th>banu</th>\n",
       "      <td>0.260430</td>\n",
       "      <td>0.476794</td>\n",
       "      <td>0.306404</td>\n",
       "    </tr>\n",
       "  </tbody>\n",
       "</table>\n",
       "</div>"
      ],
      "text/plain": [
       "           puan1     puan2     puan3\n",
       "murat   0.993136  0.716808  0.859802\n",
       "zeynep  0.900928  0.673912  0.670927\n",
       "burak   0.305213  0.678289  0.036357\n",
       "banu    0.260430  0.476794  0.306404"
      ]
     },
     "execution_count": 18,
     "metadata": {},
     "output_type": "execute_result"
    }
   ],
   "source": [
    "newDataFrame"
   ]
  },
  {
   "cell_type": "code",
   "execution_count": 19,
   "metadata": {},
   "outputs": [
    {
     "data": {
      "text/plain": [
       "murat     0.993136\n",
       "zeynep    0.900928\n",
       "burak     0.305213\n",
       "banu      0.260430\n",
       "Name: puan1, dtype: float64"
      ]
     },
     "execution_count": 19,
     "metadata": {},
     "output_type": "execute_result"
    }
   ],
   "source": [
    "newDataFrame[\"puan1\"] #indexleme işlemi sütunları alır"
   ]
  },
  {
   "cell_type": "code",
   "execution_count": 20,
   "metadata": {},
   "outputs": [
    {
     "data": {
      "text/html": [
       "<div>\n",
       "<style scoped>\n",
       "    .dataframe tbody tr th:only-of-type {\n",
       "        vertical-align: middle;\n",
       "    }\n",
       "\n",
       "    .dataframe tbody tr th {\n",
       "        vertical-align: top;\n",
       "    }\n",
       "\n",
       "    .dataframe thead th {\n",
       "        text-align: right;\n",
       "    }\n",
       "</style>\n",
       "<table border=\"1\" class=\"dataframe\">\n",
       "  <thead>\n",
       "    <tr style=\"text-align: right;\">\n",
       "      <th></th>\n",
       "      <th>puan1</th>\n",
       "      <th>puan3</th>\n",
       "    </tr>\n",
       "  </thead>\n",
       "  <tbody>\n",
       "    <tr>\n",
       "      <th>murat</th>\n",
       "      <td>0.993136</td>\n",
       "      <td>0.859802</td>\n",
       "    </tr>\n",
       "    <tr>\n",
       "      <th>zeynep</th>\n",
       "      <td>0.900928</td>\n",
       "      <td>0.670927</td>\n",
       "    </tr>\n",
       "    <tr>\n",
       "      <th>burak</th>\n",
       "      <td>0.305213</td>\n",
       "      <td>0.036357</td>\n",
       "    </tr>\n",
       "    <tr>\n",
       "      <th>banu</th>\n",
       "      <td>0.260430</td>\n",
       "      <td>0.306404</td>\n",
       "    </tr>\n",
       "  </tbody>\n",
       "</table>\n",
       "</div>"
      ],
      "text/plain": [
       "           puan1     puan3\n",
       "murat   0.993136  0.859802\n",
       "zeynep  0.900928  0.670927\n",
       "burak   0.305213  0.036357\n",
       "banu    0.260430  0.306404"
      ]
     },
     "execution_count": 20,
     "metadata": {},
     "output_type": "execute_result"
    }
   ],
   "source": [
    "newDataFrame[[\"puan1\",\"puan3\"]] #numpy da fancy indexing yapar gibi farklı konumlardaki sütunlara erişmek için"
   ]
  },
  {
   "cell_type": "code",
   "execution_count": 21,
   "metadata": {},
   "outputs": [
    {
     "data": {
      "text/plain": [
       "puan1    0.993136\n",
       "puan2    0.716808\n",
       "puan3    0.859802\n",
       "Name: murat, dtype: float64"
      ]
     },
     "execution_count": 21,
     "metadata": {},
     "output_type": "execute_result"
    }
   ],
   "source": [
    "newDataFrame.loc[\"murat\"] # .loc fonksiyonu ile indexleme işlemi sütundan satırlara taşınır"
   ]
  },
  {
   "cell_type": "code",
   "execution_count": 22,
   "metadata": {},
   "outputs": [
    {
     "data": {
      "text/html": [
       "<div>\n",
       "<style scoped>\n",
       "    .dataframe tbody tr th:only-of-type {\n",
       "        vertical-align: middle;\n",
       "    }\n",
       "\n",
       "    .dataframe tbody tr th {\n",
       "        vertical-align: top;\n",
       "    }\n",
       "\n",
       "    .dataframe thead th {\n",
       "        text-align: right;\n",
       "    }\n",
       "</style>\n",
       "<table border=\"1\" class=\"dataframe\">\n",
       "  <thead>\n",
       "    <tr style=\"text-align: right;\">\n",
       "      <th></th>\n",
       "      <th>puan1</th>\n",
       "      <th>puan2</th>\n",
       "      <th>puan3</th>\n",
       "    </tr>\n",
       "  </thead>\n",
       "  <tbody>\n",
       "    <tr>\n",
       "      <th>zeynep</th>\n",
       "      <td>0.900928</td>\n",
       "      <td>0.673912</td>\n",
       "      <td>0.670927</td>\n",
       "    </tr>\n",
       "    <tr>\n",
       "      <th>banu</th>\n",
       "      <td>0.260430</td>\n",
       "      <td>0.476794</td>\n",
       "      <td>0.306404</td>\n",
       "    </tr>\n",
       "  </tbody>\n",
       "</table>\n",
       "</div>"
      ],
      "text/plain": [
       "           puan1     puan2     puan3\n",
       "zeynep  0.900928  0.673912  0.670927\n",
       "banu    0.260430  0.476794  0.306404"
      ]
     },
     "execution_count": 22,
     "metadata": {},
     "output_type": "execute_result"
    }
   ],
   "source": [
    "newDataFrame.loc[[\"zeynep\",\"banu\"]]"
   ]
  },
  {
   "cell_type": "code",
   "execution_count": 23,
   "metadata": {},
   "outputs": [
    {
     "data": {
      "text/plain": [
       "puan1    0.993136\n",
       "puan2    0.716808\n",
       "puan3    0.859802\n",
       "Name: murat, dtype: float64"
      ]
     },
     "execution_count": 23,
     "metadata": {},
     "output_type": "execute_result"
    }
   ],
   "source": [
    "newDataFrame.iloc[0] # .iloc fonksiyonu indexleme işlemini \"loc\" ile satırlara taşırken \"i\" ilede index isimlerinden ziyade\n",
    "#index numarası kullanmamıza izin verir"
   ]
  },
  {
   "cell_type": "code",
   "execution_count": 24,
   "metadata": {},
   "outputs": [],
   "source": [
    "newDataFrame[\"puan4\"]=newDataFrame[\"puan1\"]+newDataFrame[\"puan1\"] #dataFrame'e ekleme yapar"
   ]
  },
  {
   "cell_type": "code",
   "execution_count": 25,
   "metadata": {},
   "outputs": [
    {
     "data": {
      "text/html": [
       "<div>\n",
       "<style scoped>\n",
       "    .dataframe tbody tr th:only-of-type {\n",
       "        vertical-align: middle;\n",
       "    }\n",
       "\n",
       "    .dataframe tbody tr th {\n",
       "        vertical-align: top;\n",
       "    }\n",
       "\n",
       "    .dataframe thead th {\n",
       "        text-align: right;\n",
       "    }\n",
       "</style>\n",
       "<table border=\"1\" class=\"dataframe\">\n",
       "  <thead>\n",
       "    <tr style=\"text-align: right;\">\n",
       "      <th></th>\n",
       "      <th>puan1</th>\n",
       "      <th>puan2</th>\n",
       "      <th>puan3</th>\n",
       "      <th>puan4</th>\n",
       "    </tr>\n",
       "  </thead>\n",
       "  <tbody>\n",
       "    <tr>\n",
       "      <th>murat</th>\n",
       "      <td>0.993136</td>\n",
       "      <td>0.716808</td>\n",
       "      <td>0.859802</td>\n",
       "      <td>1.986272</td>\n",
       "    </tr>\n",
       "    <tr>\n",
       "      <th>zeynep</th>\n",
       "      <td>0.900928</td>\n",
       "      <td>0.673912</td>\n",
       "      <td>0.670927</td>\n",
       "      <td>1.801856</td>\n",
       "    </tr>\n",
       "    <tr>\n",
       "      <th>burak</th>\n",
       "      <td>0.305213</td>\n",
       "      <td>0.678289</td>\n",
       "      <td>0.036357</td>\n",
       "      <td>0.610425</td>\n",
       "    </tr>\n",
       "    <tr>\n",
       "      <th>banu</th>\n",
       "      <td>0.260430</td>\n",
       "      <td>0.476794</td>\n",
       "      <td>0.306404</td>\n",
       "      <td>0.520860</td>\n",
       "    </tr>\n",
       "  </tbody>\n",
       "</table>\n",
       "</div>"
      ],
      "text/plain": [
       "           puan1     puan2     puan3     puan4\n",
       "murat   0.993136  0.716808  0.859802  1.986272\n",
       "zeynep  0.900928  0.673912  0.670927  1.801856\n",
       "burak   0.305213  0.678289  0.036357  0.610425\n",
       "banu    0.260430  0.476794  0.306404  0.520860"
      ]
     },
     "execution_count": 25,
     "metadata": {},
     "output_type": "execute_result"
    }
   ],
   "source": [
    "newDataFrame"
   ]
  },
  {
   "cell_type": "code",
   "execution_count": 26,
   "metadata": {},
   "outputs": [
    {
     "data": {
      "text/html": [
       "<div>\n",
       "<style scoped>\n",
       "    .dataframe tbody tr th:only-of-type {\n",
       "        vertical-align: middle;\n",
       "    }\n",
       "\n",
       "    .dataframe tbody tr th {\n",
       "        vertical-align: top;\n",
       "    }\n",
       "\n",
       "    .dataframe thead th {\n",
       "        text-align: right;\n",
       "    }\n",
       "</style>\n",
       "<table border=\"1\" class=\"dataframe\">\n",
       "  <thead>\n",
       "    <tr style=\"text-align: right;\">\n",
       "      <th></th>\n",
       "      <th>puan1</th>\n",
       "      <th>puan2</th>\n",
       "      <th>puan3</th>\n",
       "    </tr>\n",
       "  </thead>\n",
       "  <tbody>\n",
       "    <tr>\n",
       "      <th>murat</th>\n",
       "      <td>0.993136</td>\n",
       "      <td>0.716808</td>\n",
       "      <td>0.859802</td>\n",
       "    </tr>\n",
       "    <tr>\n",
       "      <th>zeynep</th>\n",
       "      <td>0.900928</td>\n",
       "      <td>0.673912</td>\n",
       "      <td>0.670927</td>\n",
       "    </tr>\n",
       "    <tr>\n",
       "      <th>burak</th>\n",
       "      <td>0.305213</td>\n",
       "      <td>0.678289</td>\n",
       "      <td>0.036357</td>\n",
       "    </tr>\n",
       "    <tr>\n",
       "      <th>banu</th>\n",
       "      <td>0.260430</td>\n",
       "      <td>0.476794</td>\n",
       "      <td>0.306404</td>\n",
       "    </tr>\n",
       "  </tbody>\n",
       "</table>\n",
       "</div>"
      ],
      "text/plain": [
       "           puan1     puan2     puan3\n",
       "murat   0.993136  0.716808  0.859802\n",
       "zeynep  0.900928  0.673912  0.670927\n",
       "burak   0.305213  0.678289  0.036357\n",
       "banu    0.260430  0.476794  0.306404"
      ]
     },
     "execution_count": 26,
     "metadata": {},
     "output_type": "execute_result"
    }
   ],
   "source": [
    "newDataFrame.drop(\"puan4\",axis=1) #dataFrameden puan4 kolonunu siler ama newDataFrame bunun kaydını almaz"
   ]
  },
  {
   "cell_type": "code",
   "execution_count": 27,
   "metadata": {},
   "outputs": [
    {
     "data": {
      "text/html": [
       "<div>\n",
       "<style scoped>\n",
       "    .dataframe tbody tr th:only-of-type {\n",
       "        vertical-align: middle;\n",
       "    }\n",
       "\n",
       "    .dataframe tbody tr th {\n",
       "        vertical-align: top;\n",
       "    }\n",
       "\n",
       "    .dataframe thead th {\n",
       "        text-align: right;\n",
       "    }\n",
       "</style>\n",
       "<table border=\"1\" class=\"dataframe\">\n",
       "  <thead>\n",
       "    <tr style=\"text-align: right;\">\n",
       "      <th></th>\n",
       "      <th>puan1</th>\n",
       "      <th>puan2</th>\n",
       "      <th>puan3</th>\n",
       "      <th>puan4</th>\n",
       "    </tr>\n",
       "  </thead>\n",
       "  <tbody>\n",
       "    <tr>\n",
       "      <th>murat</th>\n",
       "      <td>0.993136</td>\n",
       "      <td>0.716808</td>\n",
       "      <td>0.859802</td>\n",
       "      <td>1.986272</td>\n",
       "    </tr>\n",
       "    <tr>\n",
       "      <th>zeynep</th>\n",
       "      <td>0.900928</td>\n",
       "      <td>0.673912</td>\n",
       "      <td>0.670927</td>\n",
       "      <td>1.801856</td>\n",
       "    </tr>\n",
       "    <tr>\n",
       "      <th>burak</th>\n",
       "      <td>0.305213</td>\n",
       "      <td>0.678289</td>\n",
       "      <td>0.036357</td>\n",
       "      <td>0.610425</td>\n",
       "    </tr>\n",
       "    <tr>\n",
       "      <th>banu</th>\n",
       "      <td>0.260430</td>\n",
       "      <td>0.476794</td>\n",
       "      <td>0.306404</td>\n",
       "      <td>0.520860</td>\n",
       "    </tr>\n",
       "  </tbody>\n",
       "</table>\n",
       "</div>"
      ],
      "text/plain": [
       "           puan1     puan2     puan3     puan4\n",
       "murat   0.993136  0.716808  0.859802  1.986272\n",
       "zeynep  0.900928  0.673912  0.670927  1.801856\n",
       "burak   0.305213  0.678289  0.036357  0.610425\n",
       "banu    0.260430  0.476794  0.306404  0.520860"
      ]
     },
     "execution_count": 27,
     "metadata": {},
     "output_type": "execute_result"
    }
   ],
   "source": [
    "newDataFrame"
   ]
  },
  {
   "cell_type": "code",
   "execution_count": 28,
   "metadata": {},
   "outputs": [],
   "source": [
    "newDataFrame.drop(\"puan4\",axis=1,inplace=True) #dataFrameden puan4 kolonunu siler ve newDataFrame'e kayıt alır"
   ]
  },
  {
   "cell_type": "code",
   "execution_count": 29,
   "metadata": {},
   "outputs": [
    {
     "data": {
      "text/html": [
       "<div>\n",
       "<style scoped>\n",
       "    .dataframe tbody tr th:only-of-type {\n",
       "        vertical-align: middle;\n",
       "    }\n",
       "\n",
       "    .dataframe tbody tr th {\n",
       "        vertical-align: top;\n",
       "    }\n",
       "\n",
       "    .dataframe thead th {\n",
       "        text-align: right;\n",
       "    }\n",
       "</style>\n",
       "<table border=\"1\" class=\"dataframe\">\n",
       "  <thead>\n",
       "    <tr style=\"text-align: right;\">\n",
       "      <th></th>\n",
       "      <th>puan1</th>\n",
       "      <th>puan2</th>\n",
       "      <th>puan3</th>\n",
       "    </tr>\n",
       "  </thead>\n",
       "  <tbody>\n",
       "    <tr>\n",
       "      <th>murat</th>\n",
       "      <td>0.993136</td>\n",
       "      <td>0.716808</td>\n",
       "      <td>0.859802</td>\n",
       "    </tr>\n",
       "    <tr>\n",
       "      <th>zeynep</th>\n",
       "      <td>0.900928</td>\n",
       "      <td>0.673912</td>\n",
       "      <td>0.670927</td>\n",
       "    </tr>\n",
       "    <tr>\n",
       "      <th>burak</th>\n",
       "      <td>0.305213</td>\n",
       "      <td>0.678289</td>\n",
       "      <td>0.036357</td>\n",
       "    </tr>\n",
       "    <tr>\n",
       "      <th>banu</th>\n",
       "      <td>0.260430</td>\n",
       "      <td>0.476794</td>\n",
       "      <td>0.306404</td>\n",
       "    </tr>\n",
       "  </tbody>\n",
       "</table>\n",
       "</div>"
      ],
      "text/plain": [
       "           puan1     puan2     puan3\n",
       "murat   0.993136  0.716808  0.859802\n",
       "zeynep  0.900928  0.673912  0.670927\n",
       "burak   0.305213  0.678289  0.036357\n",
       "banu    0.260430  0.476794  0.306404"
      ]
     },
     "execution_count": 29,
     "metadata": {},
     "output_type": "execute_result"
    }
   ],
   "source": [
    "newDataFrame"
   ]
  },
  {
   "cell_type": "code",
   "execution_count": 30,
   "metadata": {},
   "outputs": [
    {
     "data": {
      "text/html": [
       "<div>\n",
       "<style scoped>\n",
       "    .dataframe tbody tr th:only-of-type {\n",
       "        vertical-align: middle;\n",
       "    }\n",
       "\n",
       "    .dataframe tbody tr th {\n",
       "        vertical-align: top;\n",
       "    }\n",
       "\n",
       "    .dataframe thead th {\n",
       "        text-align: right;\n",
       "    }\n",
       "</style>\n",
       "<table border=\"1\" class=\"dataframe\">\n",
       "  <thead>\n",
       "    <tr style=\"text-align: right;\">\n",
       "      <th></th>\n",
       "      <th>puan1</th>\n",
       "      <th>puan2</th>\n",
       "      <th>puan3</th>\n",
       "    </tr>\n",
       "  </thead>\n",
       "  <tbody>\n",
       "    <tr>\n",
       "      <th>murat</th>\n",
       "      <td>0.993136</td>\n",
       "      <td>0.716808</td>\n",
       "      <td>0.859802</td>\n",
       "    </tr>\n",
       "    <tr>\n",
       "      <th>zeynep</th>\n",
       "      <td>0.900928</td>\n",
       "      <td>0.673912</td>\n",
       "      <td>0.670927</td>\n",
       "    </tr>\n",
       "    <tr>\n",
       "      <th>burak</th>\n",
       "      <td>NaN</td>\n",
       "      <td>0.678289</td>\n",
       "      <td>NaN</td>\n",
       "    </tr>\n",
       "    <tr>\n",
       "      <th>banu</th>\n",
       "      <td>NaN</td>\n",
       "      <td>NaN</td>\n",
       "      <td>NaN</td>\n",
       "    </tr>\n",
       "  </tbody>\n",
       "</table>\n",
       "</div>"
      ],
      "text/plain": [
       "           puan1     puan2     puan3\n",
       "murat   0.993136  0.716808  0.859802\n",
       "zeynep  0.900928  0.673912  0.670927\n",
       "burak        NaN  0.678289       NaN\n",
       "banu         NaN       NaN       NaN"
      ]
     },
     "execution_count": 30,
     "metadata": {},
     "output_type": "execute_result"
    }
   ],
   "source": [
    "newDataFrame[newDataFrame>0.5]"
   ]
  },
  {
   "cell_type": "code",
   "execution_count": 31,
   "metadata": {},
   "outputs": [
    {
     "data": {
      "text/html": [
       "<div>\n",
       "<style scoped>\n",
       "    .dataframe tbody tr th:only-of-type {\n",
       "        vertical-align: middle;\n",
       "    }\n",
       "\n",
       "    .dataframe tbody tr th {\n",
       "        vertical-align: top;\n",
       "    }\n",
       "\n",
       "    .dataframe thead th {\n",
       "        text-align: right;\n",
       "    }\n",
       "</style>\n",
       "<table border=\"1\" class=\"dataframe\">\n",
       "  <thead>\n",
       "    <tr style=\"text-align: right;\">\n",
       "      <th></th>\n",
       "      <th>puan1</th>\n",
       "      <th>puan2</th>\n",
       "      <th>puan3</th>\n",
       "    </tr>\n",
       "  </thead>\n",
       "  <tbody>\n",
       "    <tr>\n",
       "      <th>murat</th>\n",
       "      <td>0.993136</td>\n",
       "      <td>0.716808</td>\n",
       "      <td>0.859802</td>\n",
       "    </tr>\n",
       "    <tr>\n",
       "      <th>zeynep</th>\n",
       "      <td>0.900928</td>\n",
       "      <td>0.673912</td>\n",
       "      <td>0.670927</td>\n",
       "    </tr>\n",
       "  </tbody>\n",
       "</table>\n",
       "</div>"
      ],
      "text/plain": [
       "           puan1     puan2     puan3\n",
       "murat   0.993136  0.716808  0.859802\n",
       "zeynep  0.900928  0.673912  0.670927"
      ]
     },
     "execution_count": 31,
     "metadata": {},
     "output_type": "execute_result"
    }
   ],
   "source": [
    "newDataFrame[newDataFrame[\"puan3\"]>0.53] #tftf şeklinde gelen veri indexlerin yazdırılıp yazdırılmayacağını belirliyor"
   ]
  },
  {
   "cell_type": "code",
   "execution_count": 32,
   "metadata": {},
   "outputs": [
    {
     "name": "stdout",
     "output_type": "stream",
     "text": [
      "murat      True\n",
      "zeynep     True\n",
      "burak     False\n",
      "banu      False\n",
      "Name: puan3, dtype: bool\n"
     ]
    },
    {
     "data": {
      "text/html": [
       "<div>\n",
       "<style scoped>\n",
       "    .dataframe tbody tr th:only-of-type {\n",
       "        vertical-align: middle;\n",
       "    }\n",
       "\n",
       "    .dataframe tbody tr th {\n",
       "        vertical-align: top;\n",
       "    }\n",
       "\n",
       "    .dataframe thead th {\n",
       "        text-align: right;\n",
       "    }\n",
       "</style>\n",
       "<table border=\"1\" class=\"dataframe\">\n",
       "  <thead>\n",
       "    <tr style=\"text-align: right;\">\n",
       "      <th></th>\n",
       "      <th>puan1</th>\n",
       "      <th>puan2</th>\n",
       "      <th>puan3</th>\n",
       "    </tr>\n",
       "  </thead>\n",
       "  <tbody>\n",
       "    <tr>\n",
       "      <th>murat</th>\n",
       "      <td>0.993136</td>\n",
       "      <td>0.716808</td>\n",
       "      <td>0.859802</td>\n",
       "    </tr>\n",
       "    <tr>\n",
       "      <th>burak</th>\n",
       "      <td>0.305213</td>\n",
       "      <td>0.678289</td>\n",
       "      <td>0.036357</td>\n",
       "    </tr>\n",
       "  </tbody>\n",
       "</table>\n",
       "</div>"
      ],
      "text/plain": [
       "          puan1     puan2     puan3\n",
       "murat  0.993136  0.716808  0.859802\n",
       "burak  0.305213  0.678289  0.036357"
      ]
     },
     "execution_count": 32,
     "metadata": {},
     "output_type": "execute_result"
    }
   ],
   "source": [
    "print(newDataFrame[\"puan3\"]>0.53)\n",
    "newDataFrame[[True,False,True,False]]#yukardaki kodun çalışma şekli"
   ]
  },
  {
   "cell_type": "code",
   "execution_count": 33,
   "metadata": {},
   "outputs": [],
   "source": [
    "newDataFrame.reset_index(inplace=True) # !!!reset_index yapıldığında var olan indexler yeni bir kolon olarak dataFrame'e eklenir"
   ]
  },
  {
   "cell_type": "code",
   "execution_count": 34,
   "metadata": {},
   "outputs": [
    {
     "data": {
      "text/html": [
       "<div>\n",
       "<style scoped>\n",
       "    .dataframe tbody tr th:only-of-type {\n",
       "        vertical-align: middle;\n",
       "    }\n",
       "\n",
       "    .dataframe tbody tr th {\n",
       "        vertical-align: top;\n",
       "    }\n",
       "\n",
       "    .dataframe thead th {\n",
       "        text-align: right;\n",
       "    }\n",
       "</style>\n",
       "<table border=\"1\" class=\"dataframe\">\n",
       "  <thead>\n",
       "    <tr style=\"text-align: right;\">\n",
       "      <th></th>\n",
       "      <th>index</th>\n",
       "      <th>puan1</th>\n",
       "      <th>puan2</th>\n",
       "      <th>puan3</th>\n",
       "    </tr>\n",
       "  </thead>\n",
       "  <tbody>\n",
       "    <tr>\n",
       "      <th>0</th>\n",
       "      <td>murat</td>\n",
       "      <td>0.993136</td>\n",
       "      <td>0.716808</td>\n",
       "      <td>0.859802</td>\n",
       "    </tr>\n",
       "    <tr>\n",
       "      <th>1</th>\n",
       "      <td>zeynep</td>\n",
       "      <td>0.900928</td>\n",
       "      <td>0.673912</td>\n",
       "      <td>0.670927</td>\n",
       "    </tr>\n",
       "    <tr>\n",
       "      <th>2</th>\n",
       "      <td>burak</td>\n",
       "      <td>0.305213</td>\n",
       "      <td>0.678289</td>\n",
       "      <td>0.036357</td>\n",
       "    </tr>\n",
       "    <tr>\n",
       "      <th>3</th>\n",
       "      <td>banu</td>\n",
       "      <td>0.260430</td>\n",
       "      <td>0.476794</td>\n",
       "      <td>0.306404</td>\n",
       "    </tr>\n",
       "  </tbody>\n",
       "</table>\n",
       "</div>"
      ],
      "text/plain": [
       "    index     puan1     puan2     puan3\n",
       "0   murat  0.993136  0.716808  0.859802\n",
       "1  zeynep  0.900928  0.673912  0.670927\n",
       "2   burak  0.305213  0.678289  0.036357\n",
       "3    banu  0.260430  0.476794  0.306404"
      ]
     },
     "execution_count": 34,
     "metadata": {},
     "output_type": "execute_result"
    }
   ],
   "source": [
    "newDataFrame"
   ]
  },
  {
   "cell_type": "code",
   "execution_count": 35,
   "metadata": {},
   "outputs": [],
   "source": [
    "newDataFrame[\"yeni index\"]=[\"mur\",\"zey\",\"bur\",\"ban\"]"
   ]
  },
  {
   "cell_type": "code",
   "execution_count": 36,
   "metadata": {},
   "outputs": [
    {
     "data": {
      "text/html": [
       "<div>\n",
       "<style scoped>\n",
       "    .dataframe tbody tr th:only-of-type {\n",
       "        vertical-align: middle;\n",
       "    }\n",
       "\n",
       "    .dataframe tbody tr th {\n",
       "        vertical-align: top;\n",
       "    }\n",
       "\n",
       "    .dataframe thead th {\n",
       "        text-align: right;\n",
       "    }\n",
       "</style>\n",
       "<table border=\"1\" class=\"dataframe\">\n",
       "  <thead>\n",
       "    <tr style=\"text-align: right;\">\n",
       "      <th></th>\n",
       "      <th>index</th>\n",
       "      <th>puan1</th>\n",
       "      <th>puan2</th>\n",
       "      <th>puan3</th>\n",
       "      <th>yeni index</th>\n",
       "    </tr>\n",
       "  </thead>\n",
       "  <tbody>\n",
       "    <tr>\n",
       "      <th>0</th>\n",
       "      <td>murat</td>\n",
       "      <td>0.993136</td>\n",
       "      <td>0.716808</td>\n",
       "      <td>0.859802</td>\n",
       "      <td>mur</td>\n",
       "    </tr>\n",
       "    <tr>\n",
       "      <th>1</th>\n",
       "      <td>zeynep</td>\n",
       "      <td>0.900928</td>\n",
       "      <td>0.673912</td>\n",
       "      <td>0.670927</td>\n",
       "      <td>zey</td>\n",
       "    </tr>\n",
       "    <tr>\n",
       "      <th>2</th>\n",
       "      <td>burak</td>\n",
       "      <td>0.305213</td>\n",
       "      <td>0.678289</td>\n",
       "      <td>0.036357</td>\n",
       "      <td>bur</td>\n",
       "    </tr>\n",
       "    <tr>\n",
       "      <th>3</th>\n",
       "      <td>banu</td>\n",
       "      <td>0.260430</td>\n",
       "      <td>0.476794</td>\n",
       "      <td>0.306404</td>\n",
       "      <td>ban</td>\n",
       "    </tr>\n",
       "  </tbody>\n",
       "</table>\n",
       "</div>"
      ],
      "text/plain": [
       "    index     puan1     puan2     puan3 yeni index\n",
       "0   murat  0.993136  0.716808  0.859802        mur\n",
       "1  zeynep  0.900928  0.673912  0.670927        zey\n",
       "2   burak  0.305213  0.678289  0.036357        bur\n",
       "3    banu  0.260430  0.476794  0.306404        ban"
      ]
     },
     "execution_count": 36,
     "metadata": {},
     "output_type": "execute_result"
    }
   ],
   "source": [
    "newDataFrame"
   ]
  },
  {
   "cell_type": "code",
   "execution_count": 37,
   "metadata": {},
   "outputs": [],
   "source": [
    "newDataFrame.set_index(\"yeni index\",inplace=True)"
   ]
  },
  {
   "cell_type": "code",
   "execution_count": 38,
   "metadata": {},
   "outputs": [
    {
     "data": {
      "text/html": [
       "<div>\n",
       "<style scoped>\n",
       "    .dataframe tbody tr th:only-of-type {\n",
       "        vertical-align: middle;\n",
       "    }\n",
       "\n",
       "    .dataframe tbody tr th {\n",
       "        vertical-align: top;\n",
       "    }\n",
       "\n",
       "    .dataframe thead th {\n",
       "        text-align: right;\n",
       "    }\n",
       "</style>\n",
       "<table border=\"1\" class=\"dataframe\">\n",
       "  <thead>\n",
       "    <tr style=\"text-align: right;\">\n",
       "      <th></th>\n",
       "      <th>index</th>\n",
       "      <th>puan1</th>\n",
       "      <th>puan2</th>\n",
       "      <th>puan3</th>\n",
       "    </tr>\n",
       "    <tr>\n",
       "      <th>yeni index</th>\n",
       "      <th></th>\n",
       "      <th></th>\n",
       "      <th></th>\n",
       "      <th></th>\n",
       "    </tr>\n",
       "  </thead>\n",
       "  <tbody>\n",
       "    <tr>\n",
       "      <th>mur</th>\n",
       "      <td>murat</td>\n",
       "      <td>0.993136</td>\n",
       "      <td>0.716808</td>\n",
       "      <td>0.859802</td>\n",
       "    </tr>\n",
       "    <tr>\n",
       "      <th>zey</th>\n",
       "      <td>zeynep</td>\n",
       "      <td>0.900928</td>\n",
       "      <td>0.673912</td>\n",
       "      <td>0.670927</td>\n",
       "    </tr>\n",
       "    <tr>\n",
       "      <th>bur</th>\n",
       "      <td>burak</td>\n",
       "      <td>0.305213</td>\n",
       "      <td>0.678289</td>\n",
       "      <td>0.036357</td>\n",
       "    </tr>\n",
       "    <tr>\n",
       "      <th>ban</th>\n",
       "      <td>banu</td>\n",
       "      <td>0.260430</td>\n",
       "      <td>0.476794</td>\n",
       "      <td>0.306404</td>\n",
       "    </tr>\n",
       "  </tbody>\n",
       "</table>\n",
       "</div>"
      ],
      "text/plain": [
       "             index     puan1     puan2     puan3\n",
       "yeni index                                      \n",
       "mur          murat  0.993136  0.716808  0.859802\n",
       "zey         zeynep  0.900928  0.673912  0.670927\n",
       "bur          burak  0.305213  0.678289  0.036357\n",
       "ban           banu  0.260430  0.476794  0.306404"
      ]
     },
     "execution_count": 38,
     "metadata": {},
     "output_type": "execute_result"
    }
   ],
   "source": [
    "newDataFrame"
   ]
  },
  {
   "cell_type": "markdown",
   "metadata": {},
   "source": [
    "### DataFrame Multi Indexing"
   ]
  },
  {
   "cell_type": "code",
   "execution_count": 39,
   "metadata": {},
   "outputs": [],
   "source": [
    "ilkIndex=[\"metal\",\"metal\",\"metal\",\"plastik\",\"plastik\",\"plastik\"]"
   ]
  },
  {
   "cell_type": "code",
   "execution_count": 40,
   "metadata": {},
   "outputs": [],
   "source": [
    "icIndex=[\"tornavida\",\"araba\",\"bilye\",\"şişe\",\"kalem\",\"fırça\"]"
   ]
  },
  {
   "cell_type": "code",
   "execution_count": 41,
   "metadata": {},
   "outputs": [],
   "source": [
    "top=list(zip(ilkIndex,icIndex))"
   ]
  },
  {
   "cell_type": "code",
   "execution_count": 42,
   "metadata": {},
   "outputs": [],
   "source": [
    "top=pd.MultiIndex.from_tuples(top)"
   ]
  },
  {
   "cell_type": "code",
   "execution_count": 43,
   "metadata": {},
   "outputs": [
    {
     "name": "stdout",
     "output_type": "stream",
     "text": [
      "MultiIndex([(  'metal', 'tornavida'),\n",
      "            (  'metal',     'araba'),\n",
      "            (  'metal',     'bilye'),\n",
      "            ('plastik',      'şişe'),\n",
      "            ('plastik',     'kalem'),\n",
      "            ('plastik',     'fırça')],\n",
      "           )\n"
     ]
    },
    {
     "data": {
      "text/plain": [
       "pandas.core.indexes.multi.MultiIndex"
      ]
     },
     "execution_count": 43,
     "metadata": {},
     "output_type": "execute_result"
    }
   ],
   "source": [
    "print(top)\n",
    "type(top)"
   ]
  },
  {
   "cell_type": "code",
   "execution_count": 44,
   "metadata": {},
   "outputs": [],
   "source": [
    "data=[[2,\"A\"],[4,\"B\"],[5,\"C\"],[3,\"D\"],[8,\"E\"],[1,\"F\"]]"
   ]
  },
  {
   "cell_type": "code",
   "execution_count": 45,
   "metadata": {},
   "outputs": [],
   "source": [
    "dF=pd.DataFrame(data,index=top,columns=[\"kalite\",\"sınıf\"]) #multi index dataframe oluşturma şekli"
   ]
  },
  {
   "cell_type": "code",
   "execution_count": 46,
   "metadata": {},
   "outputs": [
    {
     "data": {
      "text/html": [
       "<div>\n",
       "<style scoped>\n",
       "    .dataframe tbody tr th:only-of-type {\n",
       "        vertical-align: middle;\n",
       "    }\n",
       "\n",
       "    .dataframe tbody tr th {\n",
       "        vertical-align: top;\n",
       "    }\n",
       "\n",
       "    .dataframe thead th {\n",
       "        text-align: right;\n",
       "    }\n",
       "</style>\n",
       "<table border=\"1\" class=\"dataframe\">\n",
       "  <thead>\n",
       "    <tr style=\"text-align: right;\">\n",
       "      <th></th>\n",
       "      <th></th>\n",
       "      <th>kalite</th>\n",
       "      <th>sınıf</th>\n",
       "    </tr>\n",
       "  </thead>\n",
       "  <tbody>\n",
       "    <tr>\n",
       "      <th rowspan=\"3\" valign=\"top\">metal</th>\n",
       "      <th>tornavida</th>\n",
       "      <td>2</td>\n",
       "      <td>A</td>\n",
       "    </tr>\n",
       "    <tr>\n",
       "      <th>araba</th>\n",
       "      <td>4</td>\n",
       "      <td>B</td>\n",
       "    </tr>\n",
       "    <tr>\n",
       "      <th>bilye</th>\n",
       "      <td>5</td>\n",
       "      <td>C</td>\n",
       "    </tr>\n",
       "    <tr>\n",
       "      <th rowspan=\"3\" valign=\"top\">plastik</th>\n",
       "      <th>şişe</th>\n",
       "      <td>3</td>\n",
       "      <td>D</td>\n",
       "    </tr>\n",
       "    <tr>\n",
       "      <th>kalem</th>\n",
       "      <td>8</td>\n",
       "      <td>E</td>\n",
       "    </tr>\n",
       "    <tr>\n",
       "      <th>fırça</th>\n",
       "      <td>1</td>\n",
       "      <td>F</td>\n",
       "    </tr>\n",
       "  </tbody>\n",
       "</table>\n",
       "</div>"
      ],
      "text/plain": [
       "                   kalite sınıf\n",
       "metal   tornavida       2     A\n",
       "        araba           4     B\n",
       "        bilye           5     C\n",
       "plastik şişe            3     D\n",
       "        kalem           8     E\n",
       "        fırça           1     F"
      ]
     },
     "execution_count": 46,
     "metadata": {},
     "output_type": "execute_result"
    }
   ],
   "source": [
    "dF"
   ]
  },
  {
   "cell_type": "code",
   "execution_count": 47,
   "metadata": {},
   "outputs": [
    {
     "data": {
      "text/plain": [
       "metal    tornavida    2\n",
       "         araba        4\n",
       "         bilye        5\n",
       "plastik  şişe         3\n",
       "         kalem        8\n",
       "         fırça        1\n",
       "Name: kalite, dtype: int64"
      ]
     },
     "execution_count": 47,
     "metadata": {},
     "output_type": "execute_result"
    }
   ],
   "source": [
    "dF[\"kalite\"]"
   ]
  },
  {
   "cell_type": "code",
   "execution_count": 48,
   "metadata": {},
   "outputs": [
    {
     "data": {
      "text/html": [
       "<div>\n",
       "<style scoped>\n",
       "    .dataframe tbody tr th:only-of-type {\n",
       "        vertical-align: middle;\n",
       "    }\n",
       "\n",
       "    .dataframe tbody tr th {\n",
       "        vertical-align: top;\n",
       "    }\n",
       "\n",
       "    .dataframe thead th {\n",
       "        text-align: right;\n",
       "    }\n",
       "</style>\n",
       "<table border=\"1\" class=\"dataframe\">\n",
       "  <thead>\n",
       "    <tr style=\"text-align: right;\">\n",
       "      <th></th>\n",
       "      <th>kalite</th>\n",
       "      <th>sınıf</th>\n",
       "    </tr>\n",
       "  </thead>\n",
       "  <tbody>\n",
       "    <tr>\n",
       "      <th>tornavida</th>\n",
       "      <td>2</td>\n",
       "      <td>A</td>\n",
       "    </tr>\n",
       "    <tr>\n",
       "      <th>araba</th>\n",
       "      <td>4</td>\n",
       "      <td>B</td>\n",
       "    </tr>\n",
       "    <tr>\n",
       "      <th>bilye</th>\n",
       "      <td>5</td>\n",
       "      <td>C</td>\n",
       "    </tr>\n",
       "  </tbody>\n",
       "</table>\n",
       "</div>"
      ],
      "text/plain": [
       "           kalite sınıf\n",
       "tornavida       2     A\n",
       "araba           4     B\n",
       "bilye           5     C"
      ]
     },
     "execution_count": 48,
     "metadata": {},
     "output_type": "execute_result"
    }
   ],
   "source": [
    "dF.loc[\"metal\"]"
   ]
  },
  {
   "cell_type": "code",
   "execution_count": 49,
   "metadata": {},
   "outputs": [
    {
     "name": "stdout",
     "output_type": "stream",
     "text": [
      "kalite    3\n",
      "sınıf     D\n",
      "Name: şişe, dtype: object\n",
      "kalite    3\n",
      "sınıf     D\n",
      "Name: (plastik, şişe), dtype: object\n"
     ]
    }
   ],
   "source": [
    "print(dF.loc[\"plastik\"].loc[\"şişe\"])\n",
    "#aynı çıktıyı verirler\n",
    "print(dF.loc[\"plastik\",\"şişe\"])"
   ]
  },
  {
   "cell_type": "code",
   "execution_count": 50,
   "metadata": {},
   "outputs": [],
   "source": [
    "dF.index.names=[\"tür\",\"çeşit\"] #indexlere isim tanımlama"
   ]
  },
  {
   "cell_type": "code",
   "execution_count": 51,
   "metadata": {},
   "outputs": [
    {
     "data": {
      "text/html": [
       "<div>\n",
       "<style scoped>\n",
       "    .dataframe tbody tr th:only-of-type {\n",
       "        vertical-align: middle;\n",
       "    }\n",
       "\n",
       "    .dataframe tbody tr th {\n",
       "        vertical-align: top;\n",
       "    }\n",
       "\n",
       "    .dataframe thead th {\n",
       "        text-align: right;\n",
       "    }\n",
       "</style>\n",
       "<table border=\"1\" class=\"dataframe\">\n",
       "  <thead>\n",
       "    <tr style=\"text-align: right;\">\n",
       "      <th></th>\n",
       "      <th></th>\n",
       "      <th>kalite</th>\n",
       "      <th>sınıf</th>\n",
       "    </tr>\n",
       "    <tr>\n",
       "      <th>tür</th>\n",
       "      <th>çeşit</th>\n",
       "      <th></th>\n",
       "      <th></th>\n",
       "    </tr>\n",
       "  </thead>\n",
       "  <tbody>\n",
       "    <tr>\n",
       "      <th rowspan=\"3\" valign=\"top\">metal</th>\n",
       "      <th>tornavida</th>\n",
       "      <td>2</td>\n",
       "      <td>A</td>\n",
       "    </tr>\n",
       "    <tr>\n",
       "      <th>araba</th>\n",
       "      <td>4</td>\n",
       "      <td>B</td>\n",
       "    </tr>\n",
       "    <tr>\n",
       "      <th>bilye</th>\n",
       "      <td>5</td>\n",
       "      <td>C</td>\n",
       "    </tr>\n",
       "    <tr>\n",
       "      <th rowspan=\"3\" valign=\"top\">plastik</th>\n",
       "      <th>şişe</th>\n",
       "      <td>3</td>\n",
       "      <td>D</td>\n",
       "    </tr>\n",
       "    <tr>\n",
       "      <th>kalem</th>\n",
       "      <td>8</td>\n",
       "      <td>E</td>\n",
       "    </tr>\n",
       "    <tr>\n",
       "      <th>fırça</th>\n",
       "      <td>1</td>\n",
       "      <td>F</td>\n",
       "    </tr>\n",
       "  </tbody>\n",
       "</table>\n",
       "</div>"
      ],
      "text/plain": [
       "                   kalite sınıf\n",
       "tür     çeşit                  \n",
       "metal   tornavida       2     A\n",
       "        araba           4     B\n",
       "        bilye           5     C\n",
       "plastik şişe            3     D\n",
       "        kalem           8     E\n",
       "        fırça           1     F"
      ]
     },
     "execution_count": 51,
     "metadata": {},
     "output_type": "execute_result"
    }
   ],
   "source": [
    "dF"
   ]
  },
  {
   "cell_type": "markdown",
   "metadata": {},
   "source": [
    "## Dataframe eksik veriler"
   ]
  },
  {
   "cell_type": "code",
   "execution_count": 52,
   "metadata": {},
   "outputs": [],
   "source": [
    "dic={\"hatay\":[10,np.nan,30],\"afyon\":[22,43,np.nan],\"maraş\":[12,np.nan,np.nan],\"bursa\":[12,34,23]}"
   ]
  },
  {
   "cell_type": "code",
   "execution_count": 53,
   "metadata": {},
   "outputs": [],
   "source": [
    "havaDF=pd.DataFrame(dic)"
   ]
  },
  {
   "cell_type": "code",
   "execution_count": 54,
   "metadata": {},
   "outputs": [
    {
     "data": {
      "text/html": [
       "<div>\n",
       "<style scoped>\n",
       "    .dataframe tbody tr th:only-of-type {\n",
       "        vertical-align: middle;\n",
       "    }\n",
       "\n",
       "    .dataframe tbody tr th {\n",
       "        vertical-align: top;\n",
       "    }\n",
       "\n",
       "    .dataframe thead th {\n",
       "        text-align: right;\n",
       "    }\n",
       "</style>\n",
       "<table border=\"1\" class=\"dataframe\">\n",
       "  <thead>\n",
       "    <tr style=\"text-align: right;\">\n",
       "      <th></th>\n",
       "      <th>hatay</th>\n",
       "      <th>afyon</th>\n",
       "      <th>maraş</th>\n",
       "      <th>bursa</th>\n",
       "    </tr>\n",
       "  </thead>\n",
       "  <tbody>\n",
       "    <tr>\n",
       "      <th>0</th>\n",
       "      <td>10.0</td>\n",
       "      <td>22.0</td>\n",
       "      <td>12.0</td>\n",
       "      <td>12</td>\n",
       "    </tr>\n",
       "    <tr>\n",
       "      <th>1</th>\n",
       "      <td>NaN</td>\n",
       "      <td>43.0</td>\n",
       "      <td>NaN</td>\n",
       "      <td>34</td>\n",
       "    </tr>\n",
       "    <tr>\n",
       "      <th>2</th>\n",
       "      <td>30.0</td>\n",
       "      <td>NaN</td>\n",
       "      <td>NaN</td>\n",
       "      <td>23</td>\n",
       "    </tr>\n",
       "  </tbody>\n",
       "</table>\n",
       "</div>"
      ],
      "text/plain": [
       "   hatay  afyon  maraş  bursa\n",
       "0   10.0   22.0   12.0     12\n",
       "1    NaN   43.0    NaN     34\n",
       "2   30.0    NaN    NaN     23"
      ]
     },
     "execution_count": 54,
     "metadata": {},
     "output_type": "execute_result"
    }
   ],
   "source": [
    "havaDF"
   ]
  },
  {
   "cell_type": "code",
   "execution_count": 55,
   "metadata": {},
   "outputs": [
    {
     "data": {
      "text/html": [
       "<div>\n",
       "<style scoped>\n",
       "    .dataframe tbody tr th:only-of-type {\n",
       "        vertical-align: middle;\n",
       "    }\n",
       "\n",
       "    .dataframe tbody tr th {\n",
       "        vertical-align: top;\n",
       "    }\n",
       "\n",
       "    .dataframe thead th {\n",
       "        text-align: right;\n",
       "    }\n",
       "</style>\n",
       "<table border=\"1\" class=\"dataframe\">\n",
       "  <thead>\n",
       "    <tr style=\"text-align: right;\">\n",
       "      <th></th>\n",
       "      <th>hatay</th>\n",
       "      <th>afyon</th>\n",
       "      <th>maraş</th>\n",
       "      <th>bursa</th>\n",
       "    </tr>\n",
       "  </thead>\n",
       "  <tbody>\n",
       "    <tr>\n",
       "      <th>0</th>\n",
       "      <td>10.0</td>\n",
       "      <td>22.0</td>\n",
       "      <td>12.0</td>\n",
       "      <td>12</td>\n",
       "    </tr>\n",
       "  </tbody>\n",
       "</table>\n",
       "</div>"
      ],
      "text/plain": [
       "   hatay  afyon  maraş  bursa\n",
       "0   10.0   22.0   12.0     12"
      ]
     },
     "execution_count": 55,
     "metadata": {},
     "output_type": "execute_result"
    }
   ],
   "source": [
    "havaDF.dropna() #indexler arasında gezer ve NaN veri bulunan indexleri siler"
   ]
  },
  {
   "cell_type": "code",
   "execution_count": 56,
   "metadata": {},
   "outputs": [
    {
     "data": {
      "text/html": [
       "<div>\n",
       "<style scoped>\n",
       "    .dataframe tbody tr th:only-of-type {\n",
       "        vertical-align: middle;\n",
       "    }\n",
       "\n",
       "    .dataframe tbody tr th {\n",
       "        vertical-align: top;\n",
       "    }\n",
       "\n",
       "    .dataframe thead th {\n",
       "        text-align: right;\n",
       "    }\n",
       "</style>\n",
       "<table border=\"1\" class=\"dataframe\">\n",
       "  <thead>\n",
       "    <tr style=\"text-align: right;\">\n",
       "      <th></th>\n",
       "      <th>bursa</th>\n",
       "    </tr>\n",
       "  </thead>\n",
       "  <tbody>\n",
       "    <tr>\n",
       "      <th>0</th>\n",
       "      <td>12</td>\n",
       "    </tr>\n",
       "    <tr>\n",
       "      <th>1</th>\n",
       "      <td>34</td>\n",
       "    </tr>\n",
       "    <tr>\n",
       "      <th>2</th>\n",
       "      <td>23</td>\n",
       "    </tr>\n",
       "  </tbody>\n",
       "</table>\n",
       "</div>"
      ],
      "text/plain": [
       "   bursa\n",
       "0     12\n",
       "1     34\n",
       "2     23"
      ]
     },
     "execution_count": 56,
     "metadata": {},
     "output_type": "execute_result"
    }
   ],
   "source": [
    "havaDF.dropna(axis=1) #kolonlar için araştırır"
   ]
  },
  {
   "cell_type": "code",
   "execution_count": 57,
   "metadata": {},
   "outputs": [
    {
     "data": {
      "text/html": [
       "<div>\n",
       "<style scoped>\n",
       "    .dataframe tbody tr th:only-of-type {\n",
       "        vertical-align: middle;\n",
       "    }\n",
       "\n",
       "    .dataframe tbody tr th {\n",
       "        vertical-align: top;\n",
       "    }\n",
       "\n",
       "    .dataframe thead th {\n",
       "        text-align: right;\n",
       "    }\n",
       "</style>\n",
       "<table border=\"1\" class=\"dataframe\">\n",
       "  <thead>\n",
       "    <tr style=\"text-align: right;\">\n",
       "      <th></th>\n",
       "      <th>hatay</th>\n",
       "      <th>afyon</th>\n",
       "      <th>maraş</th>\n",
       "      <th>bursa</th>\n",
       "    </tr>\n",
       "  </thead>\n",
       "  <tbody>\n",
       "    <tr>\n",
       "      <th>0</th>\n",
       "      <td>10.0</td>\n",
       "      <td>22.0</td>\n",
       "      <td>12.0</td>\n",
       "      <td>12</td>\n",
       "    </tr>\n",
       "    <tr>\n",
       "      <th>1</th>\n",
       "      <td>NaN</td>\n",
       "      <td>43.0</td>\n",
       "      <td>NaN</td>\n",
       "      <td>34</td>\n",
       "    </tr>\n",
       "    <tr>\n",
       "      <th>2</th>\n",
       "      <td>30.0</td>\n",
       "      <td>NaN</td>\n",
       "      <td>NaN</td>\n",
       "      <td>23</td>\n",
       "    </tr>\n",
       "  </tbody>\n",
       "</table>\n",
       "</div>"
      ],
      "text/plain": [
       "   hatay  afyon  maraş  bursa\n",
       "0   10.0   22.0   12.0     12\n",
       "1    NaN   43.0    NaN     34\n",
       "2   30.0    NaN    NaN     23"
      ]
     },
     "execution_count": 57,
     "metadata": {},
     "output_type": "execute_result"
    }
   ],
   "source": [
    "havaDF #kayıt alınması yine inplace=True yazılmalıdır"
   ]
  },
  {
   "cell_type": "code",
   "execution_count": 58,
   "metadata": {},
   "outputs": [
    {
     "data": {
      "text/html": [
       "<div>\n",
       "<style scoped>\n",
       "    .dataframe tbody tr th:only-of-type {\n",
       "        vertical-align: middle;\n",
       "    }\n",
       "\n",
       "    .dataframe tbody tr th {\n",
       "        vertical-align: top;\n",
       "    }\n",
       "\n",
       "    .dataframe thead th {\n",
       "        text-align: right;\n",
       "    }\n",
       "</style>\n",
       "<table border=\"1\" class=\"dataframe\">\n",
       "  <thead>\n",
       "    <tr style=\"text-align: right;\">\n",
       "      <th></th>\n",
       "      <th>hatay</th>\n",
       "      <th>afyon</th>\n",
       "      <th>maraş</th>\n",
       "      <th>bursa</th>\n",
       "    </tr>\n",
       "  </thead>\n",
       "  <tbody>\n",
       "    <tr>\n",
       "      <th>0</th>\n",
       "      <td>10.0</td>\n",
       "      <td>22.0</td>\n",
       "      <td>12.0</td>\n",
       "      <td>12</td>\n",
       "    </tr>\n",
       "    <tr>\n",
       "      <th>1</th>\n",
       "      <td>NaN</td>\n",
       "      <td>43.0</td>\n",
       "      <td>NaN</td>\n",
       "      <td>34</td>\n",
       "    </tr>\n",
       "    <tr>\n",
       "      <th>2</th>\n",
       "      <td>30.0</td>\n",
       "      <td>NaN</td>\n",
       "      <td>NaN</td>\n",
       "      <td>23</td>\n",
       "    </tr>\n",
       "  </tbody>\n",
       "</table>\n",
       "</div>"
      ],
      "text/plain": [
       "   hatay  afyon  maraş  bursa\n",
       "0   10.0   22.0   12.0     12\n",
       "1    NaN   43.0    NaN     34\n",
       "2   30.0    NaN    NaN     23"
      ]
     },
     "execution_count": 58,
     "metadata": {},
     "output_type": "execute_result"
    }
   ],
   "source": [
    "havaDF.dropna(thresh=2) # NaN olmayan en az 2 değeri varsa karışmaz yoksa siler (kolonlarda araştırma yapmak için axis=1 ekle.)"
   ]
  },
  {
   "cell_type": "code",
   "execution_count": 59,
   "metadata": {},
   "outputs": [
    {
     "data": {
      "text/html": [
       "<div>\n",
       "<style scoped>\n",
       "    .dataframe tbody tr th:only-of-type {\n",
       "        vertical-align: middle;\n",
       "    }\n",
       "\n",
       "    .dataframe tbody tr th {\n",
       "        vertical-align: top;\n",
       "    }\n",
       "\n",
       "    .dataframe thead th {\n",
       "        text-align: right;\n",
       "    }\n",
       "</style>\n",
       "<table border=\"1\" class=\"dataframe\">\n",
       "  <thead>\n",
       "    <tr style=\"text-align: right;\">\n",
       "      <th></th>\n",
       "      <th>hatay</th>\n",
       "      <th>afyon</th>\n",
       "      <th>maraş</th>\n",
       "      <th>bursa</th>\n",
       "      <th>yoklar</th>\n",
       "    </tr>\n",
       "  </thead>\n",
       "  <tbody>\n",
       "    <tr>\n",
       "      <th>0</th>\n",
       "      <td>10.0</td>\n",
       "      <td>22.0</td>\n",
       "      <td>12.0</td>\n",
       "      <td>12</td>\n",
       "      <td>NaN</td>\n",
       "    </tr>\n",
       "    <tr>\n",
       "      <th>1</th>\n",
       "      <td>NaN</td>\n",
       "      <td>43.0</td>\n",
       "      <td>NaN</td>\n",
       "      <td>34</td>\n",
       "      <td>NaN</td>\n",
       "    </tr>\n",
       "    <tr>\n",
       "      <th>2</th>\n",
       "      <td>30.0</td>\n",
       "      <td>NaN</td>\n",
       "      <td>NaN</td>\n",
       "      <td>23</td>\n",
       "      <td>NaN</td>\n",
       "    </tr>\n",
       "  </tbody>\n",
       "</table>\n",
       "</div>"
      ],
      "text/plain": [
       "   hatay  afyon  maraş  bursa  yoklar\n",
       "0   10.0   22.0   12.0     12     NaN\n",
       "1    NaN   43.0    NaN     34     NaN\n",
       "2   30.0    NaN    NaN     23     NaN"
      ]
     },
     "execution_count": 59,
     "metadata": {},
     "output_type": "execute_result"
    }
   ],
   "source": [
    "havaDF[\"yoklar\"]=[np.nan,np.nan,np.nan]\n",
    "havaDF"
   ]
  },
  {
   "cell_type": "code",
   "execution_count": 60,
   "metadata": {},
   "outputs": [
    {
     "data": {
      "text/html": [
       "<div>\n",
       "<style scoped>\n",
       "    .dataframe tbody tr th:only-of-type {\n",
       "        vertical-align: middle;\n",
       "    }\n",
       "\n",
       "    .dataframe tbody tr th {\n",
       "        vertical-align: top;\n",
       "    }\n",
       "\n",
       "    .dataframe thead th {\n",
       "        text-align: right;\n",
       "    }\n",
       "</style>\n",
       "<table border=\"1\" class=\"dataframe\">\n",
       "  <thead>\n",
       "    <tr style=\"text-align: right;\">\n",
       "      <th></th>\n",
       "      <th>hatay</th>\n",
       "      <th>afyon</th>\n",
       "      <th>maraş</th>\n",
       "      <th>bursa</th>\n",
       "    </tr>\n",
       "  </thead>\n",
       "  <tbody>\n",
       "    <tr>\n",
       "      <th>0</th>\n",
       "      <td>10.0</td>\n",
       "      <td>22.0</td>\n",
       "      <td>12.0</td>\n",
       "      <td>12</td>\n",
       "    </tr>\n",
       "    <tr>\n",
       "      <th>1</th>\n",
       "      <td>NaN</td>\n",
       "      <td>43.0</td>\n",
       "      <td>NaN</td>\n",
       "      <td>34</td>\n",
       "    </tr>\n",
       "    <tr>\n",
       "      <th>2</th>\n",
       "      <td>30.0</td>\n",
       "      <td>NaN</td>\n",
       "      <td>NaN</td>\n",
       "      <td>23</td>\n",
       "    </tr>\n",
       "  </tbody>\n",
       "</table>\n",
       "</div>"
      ],
      "text/plain": [
       "   hatay  afyon  maraş  bursa\n",
       "0   10.0   22.0   12.0     12\n",
       "1    NaN   43.0    NaN     34\n",
       "2   30.0    NaN    NaN     23"
      ]
     },
     "execution_count": 60,
     "metadata": {},
     "output_type": "execute_result"
    }
   ],
   "source": [
    "havaDF.dropna(how='all',axis=1) #eğer kolondaki bütün değerler NaN ise siler.(how=[all,any] default=any)"
   ]
  },
  {
   "cell_type": "code",
   "execution_count": 61,
   "metadata": {},
   "outputs": [
    {
     "data": {
      "text/html": [
       "<div>\n",
       "<style scoped>\n",
       "    .dataframe tbody tr th:only-of-type {\n",
       "        vertical-align: middle;\n",
       "    }\n",
       "\n",
       "    .dataframe tbody tr th {\n",
       "        vertical-align: top;\n",
       "    }\n",
       "\n",
       "    .dataframe thead th {\n",
       "        text-align: right;\n",
       "    }\n",
       "</style>\n",
       "<table border=\"1\" class=\"dataframe\">\n",
       "  <thead>\n",
       "    <tr style=\"text-align: right;\">\n",
       "      <th></th>\n",
       "      <th>hatay</th>\n",
       "      <th>afyon</th>\n",
       "      <th>maraş</th>\n",
       "      <th>bursa</th>\n",
       "      <th>yoklar</th>\n",
       "    </tr>\n",
       "  </thead>\n",
       "  <tbody>\n",
       "    <tr>\n",
       "      <th>0</th>\n",
       "      <td>10.0</td>\n",
       "      <td>22.0</td>\n",
       "      <td>12.0</td>\n",
       "      <td>12</td>\n",
       "      <td>NaN</td>\n",
       "    </tr>\n",
       "    <tr>\n",
       "      <th>2</th>\n",
       "      <td>30.0</td>\n",
       "      <td>NaN</td>\n",
       "      <td>NaN</td>\n",
       "      <td>23</td>\n",
       "      <td>NaN</td>\n",
       "    </tr>\n",
       "  </tbody>\n",
       "</table>\n",
       "</div>"
      ],
      "text/plain": [
       "   hatay  afyon  maraş  bursa  yoklar\n",
       "0   10.0   22.0   12.0     12     NaN\n",
       "2   30.0    NaN    NaN     23     NaN"
      ]
     },
     "execution_count": 61,
     "metadata": {},
     "output_type": "execute_result"
    }
   ],
   "source": [
    "havaDF.dropna(subset=[\"bursa\",\"hatay\"]) #NaN değerlerin aranacağı kolonları elle verebiliriz."
   ]
  },
  {
   "cell_type": "code",
   "execution_count": 62,
   "metadata": {},
   "outputs": [
    {
     "data": {
      "text/html": [
       "<div>\n",
       "<style scoped>\n",
       "    .dataframe tbody tr th:only-of-type {\n",
       "        vertical-align: middle;\n",
       "    }\n",
       "\n",
       "    .dataframe tbody tr th {\n",
       "        vertical-align: top;\n",
       "    }\n",
       "\n",
       "    .dataframe thead th {\n",
       "        text-align: right;\n",
       "    }\n",
       "</style>\n",
       "<table border=\"1\" class=\"dataframe\">\n",
       "  <thead>\n",
       "    <tr style=\"text-align: right;\">\n",
       "      <th></th>\n",
       "      <th>hatay</th>\n",
       "      <th>afyon</th>\n",
       "      <th>maraş</th>\n",
       "      <th>bursa</th>\n",
       "      <th>yoklar</th>\n",
       "    </tr>\n",
       "  </thead>\n",
       "  <tbody>\n",
       "    <tr>\n",
       "      <th>0</th>\n",
       "      <td>10</td>\n",
       "      <td>22</td>\n",
       "      <td>12</td>\n",
       "      <td>12</td>\n",
       "      <td>xx</td>\n",
       "    </tr>\n",
       "    <tr>\n",
       "      <th>1</th>\n",
       "      <td>xx</td>\n",
       "      <td>43</td>\n",
       "      <td>xx</td>\n",
       "      <td>34</td>\n",
       "      <td>xx</td>\n",
       "    </tr>\n",
       "    <tr>\n",
       "      <th>2</th>\n",
       "      <td>30</td>\n",
       "      <td>xx</td>\n",
       "      <td>xx</td>\n",
       "      <td>23</td>\n",
       "      <td>xx</td>\n",
       "    </tr>\n",
       "  </tbody>\n",
       "</table>\n",
       "</div>"
      ],
      "text/plain": [
       "  hatay afyon maraş  bursa yoklar\n",
       "0    10    22    12     12     xx\n",
       "1    xx    43    xx     34     xx\n",
       "2    30    xx    xx     23     xx"
      ]
     },
     "execution_count": 62,
     "metadata": {},
     "output_type": "execute_result"
    }
   ],
   "source": [
    "havaDF.fillna(\"xx\") #NaN değerler \"xx\" ile doldurulur."
   ]
  },
  {
   "cell_type": "markdown",
   "metadata": {},
   "source": [
    "## Groupby"
   ]
  },
  {
   "cell_type": "code",
   "execution_count": 63,
   "metadata": {},
   "outputs": [],
   "source": [
    "maasDict={\"Departman\":[\"yazılım\",\"yazılım\",\"pazarlama\",\"pazarlama\",\"hukuk\",\"hukuk\"],\n",
    "          \"Calisan\":[\"ahmet\",\"mehmet\",\"zeynep\",\"banu\",\"ilay\",\"murat\"],\n",
    "          \"maas\":[100,200,300,400,500,600]}"
   ]
  },
  {
   "cell_type": "code",
   "execution_count": 64,
   "metadata": {},
   "outputs": [],
   "source": [
    "maasDF=pd.DataFrame(maasDict)"
   ]
  },
  {
   "cell_type": "code",
   "execution_count": 65,
   "metadata": {},
   "outputs": [
    {
     "data": {
      "text/html": [
       "<div>\n",
       "<style scoped>\n",
       "    .dataframe tbody tr th:only-of-type {\n",
       "        vertical-align: middle;\n",
       "    }\n",
       "\n",
       "    .dataframe tbody tr th {\n",
       "        vertical-align: top;\n",
       "    }\n",
       "\n",
       "    .dataframe thead th {\n",
       "        text-align: right;\n",
       "    }\n",
       "</style>\n",
       "<table border=\"1\" class=\"dataframe\">\n",
       "  <thead>\n",
       "    <tr style=\"text-align: right;\">\n",
       "      <th></th>\n",
       "      <th>Departman</th>\n",
       "      <th>Calisan</th>\n",
       "      <th>maas</th>\n",
       "    </tr>\n",
       "  </thead>\n",
       "  <tbody>\n",
       "    <tr>\n",
       "      <th>0</th>\n",
       "      <td>yazılım</td>\n",
       "      <td>ahmet</td>\n",
       "      <td>100</td>\n",
       "    </tr>\n",
       "    <tr>\n",
       "      <th>1</th>\n",
       "      <td>yazılım</td>\n",
       "      <td>mehmet</td>\n",
       "      <td>200</td>\n",
       "    </tr>\n",
       "    <tr>\n",
       "      <th>2</th>\n",
       "      <td>pazarlama</td>\n",
       "      <td>zeynep</td>\n",
       "      <td>300</td>\n",
       "    </tr>\n",
       "    <tr>\n",
       "      <th>3</th>\n",
       "      <td>pazarlama</td>\n",
       "      <td>banu</td>\n",
       "      <td>400</td>\n",
       "    </tr>\n",
       "    <tr>\n",
       "      <th>4</th>\n",
       "      <td>hukuk</td>\n",
       "      <td>ilay</td>\n",
       "      <td>500</td>\n",
       "    </tr>\n",
       "    <tr>\n",
       "      <th>5</th>\n",
       "      <td>hukuk</td>\n",
       "      <td>murat</td>\n",
       "      <td>600</td>\n",
       "    </tr>\n",
       "  </tbody>\n",
       "</table>\n",
       "</div>"
      ],
      "text/plain": [
       "   Departman Calisan  maas\n",
       "0    yazılım   ahmet   100\n",
       "1    yazılım  mehmet   200\n",
       "2  pazarlama  zeynep   300\n",
       "3  pazarlama    banu   400\n",
       "4      hukuk    ilay   500\n",
       "5      hukuk   murat   600"
      ]
     },
     "execution_count": 65,
     "metadata": {},
     "output_type": "execute_result"
    }
   ],
   "source": [
    "maasDF"
   ]
  },
  {
   "cell_type": "code",
   "execution_count": 66,
   "metadata": {},
   "outputs": [],
   "source": [
    "grupObjesi=maasDF.groupby(\"Departman\") #Departman altındaki başlıkları aynı olmalarına göre gruplandırır\n",
    "#ve sonrasında gruplar üzerinden  dataframe işlemleri yapılabilir"
   ]
  },
  {
   "cell_type": "code",
   "execution_count": 67,
   "metadata": {},
   "outputs": [
    {
     "name": "stdout",
     "output_type": "stream",
     "text": [
      "           Calisan  maas\n",
      "Departman               \n",
      "hukuk            2     2\n",
      "pazarlama        2     2\n",
      "yazılım          2     2\n",
      "           maas\n",
      "Departman      \n",
      "hukuk       550\n",
      "pazarlama   350\n",
      "yazılım     150\n",
      "          Calisan  maas\n",
      "Departman              \n",
      "hukuk        ilay   500\n",
      "pazarlama    banu   300\n",
      "yazılım     ahmet   100\n"
     ]
    }
   ],
   "source": [
    "print(grupObjesi.count())\n",
    "print(grupObjesi.mean())\n",
    "print(grupObjesi.min())\n",
    "#...vs"
   ]
  },
  {
   "cell_type": "code",
   "execution_count": 68,
   "metadata": {},
   "outputs": [
    {
     "data": {
      "text/html": [
       "<div>\n",
       "<style scoped>\n",
       "    .dataframe tbody tr th:only-of-type {\n",
       "        vertical-align: middle;\n",
       "    }\n",
       "\n",
       "    .dataframe tbody tr th {\n",
       "        vertical-align: top;\n",
       "    }\n",
       "\n",
       "    .dataframe thead tr th {\n",
       "        text-align: left;\n",
       "    }\n",
       "\n",
       "    .dataframe thead tr:last-of-type th {\n",
       "        text-align: right;\n",
       "    }\n",
       "</style>\n",
       "<table border=\"1\" class=\"dataframe\">\n",
       "  <thead>\n",
       "    <tr>\n",
       "      <th></th>\n",
       "      <th colspan=\"8\" halign=\"left\">maas</th>\n",
       "    </tr>\n",
       "    <tr>\n",
       "      <th></th>\n",
       "      <th>count</th>\n",
       "      <th>mean</th>\n",
       "      <th>std</th>\n",
       "      <th>min</th>\n",
       "      <th>25%</th>\n",
       "      <th>50%</th>\n",
       "      <th>75%</th>\n",
       "      <th>max</th>\n",
       "    </tr>\n",
       "    <tr>\n",
       "      <th>Departman</th>\n",
       "      <th></th>\n",
       "      <th></th>\n",
       "      <th></th>\n",
       "      <th></th>\n",
       "      <th></th>\n",
       "      <th></th>\n",
       "      <th></th>\n",
       "      <th></th>\n",
       "    </tr>\n",
       "  </thead>\n",
       "  <tbody>\n",
       "    <tr>\n",
       "      <th>hukuk</th>\n",
       "      <td>2.0</td>\n",
       "      <td>550.0</td>\n",
       "      <td>70.710678</td>\n",
       "      <td>500.0</td>\n",
       "      <td>525.0</td>\n",
       "      <td>550.0</td>\n",
       "      <td>575.0</td>\n",
       "      <td>600.0</td>\n",
       "    </tr>\n",
       "    <tr>\n",
       "      <th>pazarlama</th>\n",
       "      <td>2.0</td>\n",
       "      <td>350.0</td>\n",
       "      <td>70.710678</td>\n",
       "      <td>300.0</td>\n",
       "      <td>325.0</td>\n",
       "      <td>350.0</td>\n",
       "      <td>375.0</td>\n",
       "      <td>400.0</td>\n",
       "    </tr>\n",
       "    <tr>\n",
       "      <th>yazılım</th>\n",
       "      <td>2.0</td>\n",
       "      <td>150.0</td>\n",
       "      <td>70.710678</td>\n",
       "      <td>100.0</td>\n",
       "      <td>125.0</td>\n",
       "      <td>150.0</td>\n",
       "      <td>175.0</td>\n",
       "      <td>200.0</td>\n",
       "    </tr>\n",
       "  </tbody>\n",
       "</table>\n",
       "</div>"
      ],
      "text/plain": [
       "           maas                                                     \n",
       "          count   mean        std    min    25%    50%    75%    max\n",
       "Departman                                                           \n",
       "hukuk       2.0  550.0  70.710678  500.0  525.0  550.0  575.0  600.0\n",
       "pazarlama   2.0  350.0  70.710678  300.0  325.0  350.0  375.0  400.0\n",
       "yazılım     2.0  150.0  70.710678  100.0  125.0  150.0  175.0  200.0"
      ]
     },
     "execution_count": 68,
     "metadata": {},
     "output_type": "execute_result"
    }
   ],
   "source": [
    "grupObjesi.describe() #istatiksel verileri toplu halde verir"
   ]
  },
  {
   "cell_type": "code",
   "execution_count": null,
   "metadata": {},
   "outputs": [],
   "source": []
  }
 ],
 "metadata": {
  "kernelspec": {
   "display_name": "Python 3",
   "language": "python",
   "name": "python3"
  },
  "language_info": {
   "codemirror_mode": {
    "name": "ipython",
    "version": 3
   },
   "file_extension": ".py",
   "mimetype": "text/x-python",
   "name": "python",
   "nbconvert_exporter": "python",
   "pygments_lexer": "ipython3",
   "version": "3.8.5"
  },
  "widgets": {
   "application/vnd.jupyter.widget-state+json": {
    "state": {},
    "version_major": 2,
    "version_minor": 0
   }
  }
 },
 "nbformat": 4,
 "nbformat_minor": 4
}
